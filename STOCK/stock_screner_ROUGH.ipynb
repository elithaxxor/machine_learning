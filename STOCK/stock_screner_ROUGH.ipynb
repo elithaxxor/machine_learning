{
 "cells": [
  {
   "cell_type": "code",
   "execution_count": 1,
   "id": "e6788951-ec3d-4c7f-83d4-ba3606e1c68d",
   "metadata": {
    "tags": []
   },
   "outputs": [],
   "source": [
    "# !pip3 install pandas_datareader\n",
    "# !pip3 install pandas\n",
    "# !pip3 install datetime \n",
    "# !pip3 install yahoo_fin \n",
    "\n",
    "import pandas_datareader as web ## USE TO LOAD DATA FROM WEBSITE\n",
    "import pandas as pd\n",
    "import numpy as np\n",
    "import datetime as dt\n",
    "import traceback\n",
    "from yahoo_fin import stock_info as si\n"
   ]
  },
  {
   "cell_type": "code",
   "execution_count": 2,
   "id": "278faff6-0617-4a6a-9dcf-0eff040ded45",
   "metadata": {
    "tags": []
   },
   "outputs": [
    {
     "name": "stdout",
     "output_type": "stream",
     "text": [
      "                   High          Low         Open        Close      Volume  \\\n",
      "Date                                                                         \n",
      "2021-01-14  3823.600098  3792.860107  3814.979980  3795.540039  5180140000   \n",
      "2021-01-15  3788.729980  3749.620117  3788.729980  3768.250000  5353060000   \n",
      "2021-01-19  3804.530029  3780.370117  3781.879883  3798.909912  4982940000   \n",
      "2021-01-20  3859.750000  3816.219971  3816.219971  3851.850098  4551790000   \n",
      "2021-01-21  3861.449951  3845.050049  3857.459961  3853.070068  4484460000   \n",
      "\n",
      "              Adj Close  Pct Change  \n",
      "Date                                 \n",
      "2021-01-14  3795.540039         NaN  \n",
      "2021-01-15  3768.250000   -0.007190  \n",
      "2021-01-19  3798.909912    0.008136  \n",
      "2021-01-20  3851.850098    0.013936  \n",
      "2021-01-21  3853.070068    0.000317  \n",
      "XXXXXXXXXXXXXXXXXXXXXXXXXXXXXXXXXXXXXXXXXXXXXXXXXX\n",
      "1.2275011558847984\n"
     ]
    }
   ],
   "source": [
    "def breaker():\n",
    "    print('X' * 50) \n",
    "\n",
    "## establish stock range \n",
    "start = dt.datetime.now()-dt.timedelta(days=365)\n",
    "end = dt.datetime.now()\n",
    "\n",
    "\n",
    "\n",
    "'''\n",
    "    * 1. return s&p500 corp.  \n",
    "    * 2. use DataReader to create sp500_df \n",
    "    * 3. create new col Pct Change and calculate percent change.  \n",
    "    * 4. calculate YOY return for s&p 500, spanning all 500 companies. [cumprod()-1]\n",
    "'''\n",
    "stock_range = si.tickers_sp500() # \n",
    "sp500_df = web.DataReader('^GSPC', 'yahoo', start, end) \n",
    "sp500_df['Pct Change'] = sp500_df['Adj Close'].pct_change() \n",
    "\n",
    "sp500_return = (sp500_df['Pct Change'] + 1).cumprod()[-1] \n",
    "\n",
    "print(sp500_df.head()); print('X'*50)  \n",
    "print(sp500_return)\n"
   ]
  },
  {
   "cell_type": "code",
   "execution_count": 3,
   "id": "e4ac472b-b7b3-4703-886d-dd40538cfa6f",
   "metadata": {
    "tags": []
   },
   "outputs": [
    {
     "name": "stdout",
     "output_type": "stream",
     "text": [
      "                 High        Low       Open      Close    Volume  Adj Close  \\\n",
      "Date                                                                          \n",
      "2021-01-14  92.360001  90.449997  91.769997  90.790001  53408200  90.790001   \n",
      "2021-01-15  91.589996  87.860001  90.750000  88.209999  49340300  88.209999   \n",
      "2021-01-19  89.580002  87.239998  89.559998  89.449997  45115100  89.449997   \n",
      "2021-01-20  90.779999  88.599998  90.550003  88.750000  35185800  88.750000   \n",
      "2021-01-21  92.070000  88.430000  89.339996  91.529999  54221900  91.529999   \n",
      "\n",
      "            Pct Change  \n",
      "Date                    \n",
      "2021-01-14         NaN  \n",
      "2021-01-15   -0.028417  \n",
      "2021-01-19    0.014057  \n",
      "2021-01-20   -0.007826  \n",
      "2021-01-21    0.031324  \n",
      "XXXXXXXXXXXXXXXXXXXXXXXXXXXXXXXXXXXXXXXXXXXXXXXXXX\n",
      "1.4620553381937678\n",
      "<class 'numpy.float64'>\n",
      "XXXXXXXXXXXXXXXXXXXXXXXXXXXXXXXXXXXXXXXXXXXXXXXXXX\n",
      "[0.94, 0.96, 1.18, 1.09, 1.01, 1.06, 0.79, 0.97, 1.17, 0.91, 0.88, 1.12, 1.19, 0.68, 1.0, 0.97, 0.71, 1.13, 1.25, 0.93, 1.16, 0.89, 1.06, 0.77, 0.83, 0.95, 0.89, 1.22, 0.91, 1.19]\n"
     ]
    }
   ],
   "source": [
    "return_list = []\n",
    "final_df = pd.DataFrame(columns=['Ticker', 'Latest_Price', 'Score', 'PE_Ratio', 'PEG_Ratio', 'SMA_150', 'SMA_200', '52_Week_Low', '52_Week_High'])\n",
    "\n",
    "\n",
    "''' \n",
    "    * Iterate through top performing org in s&p. [READ] In case, it is set to 10\n",
    "    * Pull data for individual stocks and save to stockdata.csv\n",
    "    * Simularly to S&P 500 Calculation, cal\n",
    "    * Calculate and append pct change using \n",
    "    * Calculate stock return by dividing (pct_change + 1) by s&p500 return.  \n",
    "    * save info to list (returns_list), which will contain date and %change per day \n",
    "'''\n",
    "count = 0\n",
    "for ticker in stock_range:\n",
    "    df = web.DataReader(ticker, 'yahoo', start, end)\n",
    "   # df['Ticker'] = ticker \n",
    "    df.to_csv(f\"{ticker}.csv\") # Write df Object to .CSV to access later. \n",
    "    \n",
    "    df['Pct Change'] = df['Adj Close'].pct_change()\n",
    "    stock_return = (df['Pct Change'] + 1).cumprod()[-1]\n",
    "    \n",
    "    returns_compared = round((stock_return / sp500_return), 2)\n",
    "    return_list.append(returns_compared)\n",
    "    count +=1\n",
    "    if count == 30: break\n",
    "\n",
    "\n",
    "print(df.head()); breaker()\n",
    "print(stock_return)\n",
    "print(type(stock_return)); breaker()\n",
    "print(return_list) \n",
    "\n"
   ]
  },
  {
   "cell_type": "code",
   "execution_count": 4,
   "id": "44305b6e-d60c-4ce2-9305-dea7764fd06e",
   "metadata": {
    "tags": []
   },
   "outputs": [
    {
     "name": "stdout",
     "output_type": "stream",
     "text": [
      "   Ticker  Returns Compared      Score\n",
      "2     AAP              1.18  86.666667\n",
      "8     ACN              1.17  83.333333\n",
      "11    ADM              1.12  73.333333\n",
      "12    ADP              1.19  91.666667\n",
      "17    AFL              1.13  76.666667\n",
      "<class 'pandas.core.frame.DataFrame'>\n"
     ]
    }
   ],
   "source": [
    "'''\n",
    "    * Best Performers is used by taking the previous 10 values from s&p and zipped \n",
    "    * Create a 'Score' by ranking \n",
    "'''\n",
    "\n",
    "best_performers = pd.DataFrame(list(zip(stock_range, return_list)),\n",
    "                               columns=['Ticker', 'Returns Compared'])\n",
    "\n",
    "best_performers.dropna() \n",
    "best_performers['Score'] = best_performers['Returns Compared'].rank(pct=True) * 100\n",
    "best_performers = best_performers[best_performers['Score'] >= best_performers['Score'].quantile(0.7)] #|[best_performers['Score'] <= best_performers['Score'].quantile(0.3)]\n",
    "\n",
    "\n",
    "print(best_performers.head())\n",
    "print(type(best_performers))\n"
   ]
  },
  {
   "cell_type": "code",
   "execution_count": 5,
   "id": "e57b6e89-493c-4bc6-aee4-22f0da964f2a",
   "metadata": {
    "tags": []
   },
   "outputs": [
    {
     "name": "stdout",
     "output_type": "stream",
     "text": [
      "AMD\n",
      "Index(['High', 'Low', 'Open', 'Close', 'Volume', 'Adj Close', 'Pct Change'], dtype='object')\n"
     ]
    }
   ],
   "source": [
    "print(ticker)\n",
    "print(df.columns) \n",
    "#print(si.get_stats_valuation('AAPL'))\n",
    "\n",
    "\n",
    "for ticker in best_performers['Ticker']:\n",
    "    try:\n",
    "        df = pd.read_csv(f\"{ticker}.csv\", index_col=0)  ## load df from CSV.\n",
    "        moving_averages = [150, 200]\n",
    "        \n",
    "        for ma in moving_averages:\n",
    "            df['SMA_' + str(ma)] = round(df['Adj Close'].rolling(window=ma).mean(), 2) ## THIS IS LINKED TO MANY ERRORS BECAUSE NOT ROUNDED TO TWO \n",
    "            \n",
    "            latest_price = df['Adj Close'][-1]\n",
    "            pe_ratio = float(si.get_quote_table(ticker)['PE Ratio (TTM)'])\n",
    "            \n",
    "            \n",
    "            #peg_ratio = float(si.get_stats_valuation(ticker)[1][4])\n",
    "            \n",
    "            moving_average_150 = df['SMA_150'][-1]\n",
    "            #moving_average_200 = df['SMA_200'][-1]\n",
    "            \n",
    "            low_52week = round(min(df['Low'][-(52 * 5):]), 2)\n",
    "            high_52week = round(min(df['High'][-(52 * 5):]), 2)\n",
    "\n",
    "            score = round(best_performers[best_performers['Ticker'] == ticker]['Score'].tolist()[0])\n",
    "            \n",
    "            ## conditions to accept stock we are interested in\n",
    "            #condition_1 = latest_price > moving_average_150 > moving_average_200\n",
    "            condition_2 = latest_price >= (1.3 * low_52week)\n",
    "            condition_3 = latest_price >= (.75 * high_52week)\n",
    "            condition_4 = pe_ratio < 40\n",
    "            #condition_5 = peg_ratio < 2\n",
    "\n",
    "            ## final dataframe after conditons are met.\n",
    "            if (condition_2 and condition_3 and condition_4): # OMMITTED condition_1 and condition_5\n",
    "                final_df = final_df.append({'Ticker': ticker,\n",
    "                                            'Latest_Price': latest_price,\n",
    "                                            'Score': score,\n",
    "                                            'PE_Ratio': pe_ratio,\n",
    "                                            #'PEG_Ratio': peg_ratio,\n",
    "                                            'SMA_150': moving_average_150,\n",
    "                                            #'SMA_200': moving_average_200,\n",
    "                                            '52_Week_Low': low_52week, \n",
    "                                            '52_Week_High': high_52week}, ignore_index=True)\n",
    "                \n",
    "                \n",
    "    except Exception as e:\n",
    "        print(f'[{ticker}] \\n, {str(e)}  \\n {traceback.format_exc()}')\n",
    "        pass\n"
   ]
  },
  {
   "cell_type": "code",
   "execution_count": 6,
   "id": "da4f139d-b11a-4164-aa8e-9d817d26d906",
   "metadata": {
    "tags": []
   },
   "outputs": [
    {
     "name": "stdout",
     "output_type": "stream",
     "text": [
      "  Ticker  Latest_Price Score  PE_Ratio  PEG_Ratio  SMA_150  SMA_200  \\\n",
      "0    AAP    241.320007    87     23.84        NaN   216.71      NaN   \n",
      "1    AAP    241.320007    87     23.84        NaN   216.71      NaN   \n",
      "2    ACN    361.369995    83     38.80        NaN   340.73      NaN   \n",
      "3    ACN    361.369995    83     38.80        NaN   340.73      NaN   \n",
      "4    ADM     70.900002    73     15.10        NaN    62.34      NaN   \n",
      "\n",
      "   52_Week_Low  52_Week_High  \n",
      "0       143.15        154.45  \n",
      "1       143.15        154.45  \n",
      "2       241.73        248.90  \n",
      "3       241.73        248.90  \n",
      "4        49.28         50.75  \n"
     ]
    }
   ],
   "source": [
    "\n",
    "final_df.sort_values(by='Score', ascending=False)\n",
    "pd.set_option('display.max_columns', 10)\n",
    "print(final_df.head())\n",
    "final_df.to_csv('final.csv')"
   ]
  },
  {
   "cell_type": "code",
   "execution_count": null,
   "id": "e0207e2b-7202-480d-bc88-ac97ac222d2b",
   "metadata": {},
   "outputs": [],
   "source": []
  },
  {
   "cell_type": "code",
   "execution_count": null,
   "id": "e28f7f5e-e8b4-40e9-88c3-fe160d2345a5",
   "metadata": {},
   "outputs": [],
   "source": []
  },
  {
   "cell_type": "code",
   "execution_count": null,
   "id": "a39745e1-f35f-498e-b128-73f811521d98",
   "metadata": {},
   "outputs": [],
   "source": []
  }
 ],
 "metadata": {
  "kernelspec": {
   "display_name": "Python 3 (ipykernel)",
   "language": "python",
   "name": "python3"
  },
  "language_info": {
   "codemirror_mode": {
    "name": "ipython",
    "version": 3
   },
   "file_extension": ".py",
   "mimetype": "text/x-python",
   "name": "python",
   "nbconvert_exporter": "python",
   "pygments_lexer": "ipython3",
   "version": "3.9.7"
  },
  "toc-autonumbering": true,
  "toc-showcode": true
 },
 "nbformat": 4,
 "nbformat_minor": 5
}
